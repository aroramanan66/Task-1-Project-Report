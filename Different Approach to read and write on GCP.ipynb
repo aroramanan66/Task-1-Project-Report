{
 "cells": [
  {
   "cell_type": "markdown",
   "id": "297f400f",
   "metadata": {},
   "source": [
    "# Creating A Bucket in GCP\n",
    "\n"
   ]
  },
  {
   "cell_type": "code",
   "execution_count": null,
   "id": "c0fc2906",
   "metadata": {},
   "outputs": [],
   "source": [
    "import os\n",
    "from pprint import pprint\n",
    "from google.cloud import storage\n",
    "\n",
    "\n",
    "\n",
    "\n",
    "os.environ['GOOGLE_APPLICATION_CREDENTIALS'] = 'resourcebusy-testing-9c296e198f25.json'\n",
    "\n",
    "storage_client = storage.Client()\n",
    "\n",
    "\n",
    "\n",
    "bucket_name = 'resoucebusymanan_123'\n",
    "\n",
    "bucket = storage_client.bucket(bucket_name)\n",
    "bucket.storage_class = 'STANDARD' # Archive | Nearline | Standard\n",
    "bucket.location = 'US' # Taiwan\n",
    "bucket = storage_client.create_bucket(bucket)\n"
   ]
  },
  {
   "cell_type": "markdown",
   "id": "ed335b75",
   "metadata": {},
   "source": [
    "# Upload the File on GCP Bucket"
   ]
  },
  {
   "cell_type": "code",
   "execution_count": 2,
   "id": "7a5fc62f",
   "metadata": {},
   "outputs": [],
   "source": [
    "my_bucket = storage_client.get_bucket(bucket_name)\n",
    "\n",
    "\n",
    "\n",
    "\n",
    "def upload_to_bucket(blob_name, file_path, bucket_name):\n",
    "\n",
    "    bucket = storage_client.get_bucket(bucket_name)\n",
    "    blob = bucket.blob(blob_name)\n",
    "    blob.upload_from_filename(file_path)\n",
    "    return blob\n",
    "\n",
    "\n",
    "response = upload_to_bucket('htmlfirst', 'index.html', bucket_name)\n"
   ]
  },
  {
   "cell_type": "markdown",
   "id": "c63db5a0",
   "metadata": {},
   "source": [
    "# Download the File from GCP Bucket"
   ]
  },
  {
   "cell_type": "code",
   "execution_count": 12,
   "id": "749ebfe3",
   "metadata": {},
   "outputs": [],
   "source": [
    "def download_file_from_bucket(blog_name, file_path, bucket_name):\n",
    "    bucket = storage_client.get_bucket(bucket_name)\n",
    "    blob = bucket.blob(blog_name)\n",
    "    with open(file_path, 'wb') as f:\n",
    "        storage_client.download_blob_to_file(blob, f)\n",
    "    \n",
    "\n",
    "\n",
    "download_file_from_bucket('htmlfirst', r'C:\\Users\\arora\\Downloads\\new python work\\index1.html', bucket_name)"
   ]
  }
 ],
 "metadata": {
  "kernelspec": {
   "display_name": "Python 3",
   "language": "python",
   "name": "python3"
  },
  "language_info": {
   "codemirror_mode": {
    "name": "ipython",
    "version": 3
   },
   "file_extension": ".py",
   "mimetype": "text/x-python",
   "name": "python",
   "nbconvert_exporter": "python",
   "pygments_lexer": "ipython3",
   "version": "3.8.8"
  }
 },
 "nbformat": 4,
 "nbformat_minor": 5
}
