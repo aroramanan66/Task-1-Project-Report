{
 "cells": [
  {
   "cell_type": "markdown",
   "id": "ab09844c",
   "metadata": {},
   "source": [
    "# Creating A bucket in GCP"
   ]
  },
  {
   "cell_type": "code",
   "execution_count": 2,
   "id": "08657593",
   "metadata": {},
   "outputs": [
    {
     "name": "stderr",
     "output_type": "stream",
     "text": [
      "<ipython-input-2-75b1d793e65e>:18: DeprecationWarning: Assignment to 'Bucket.location' is deprecated, as it is only valid before the bucket is created. Instead, pass the location to `Bucket.create`.\n",
      "  bucket.location = 'US' # Taiwan\n"
     ]
    }
   ],
   "source": [
    "import os\n",
    "from pprint import pprint\n",
    "from google.cloud import storage\n",
    "\n",
    "\n",
    "\n",
    "\n",
    "os.environ['GOOGLE_APPLICATION_CREDENTIALS'] = 'resourcebusy-testing-9c296e198f25.json'\n",
    "\n",
    "storage_client = storage.Client()\n",
    "\n",
    "\n",
    "\n",
    "bucket_name = 'resoucebusymanan_555'\n",
    "\n",
    "bucket = storage_client.bucket(bucket_name)\n",
    "bucket.storage_class = 'STANDARD' # Archive | Nearline | Standard\n",
    "bucket.location = 'US' # Taiwan\n",
    "bucket = storage_client.create_bucket(bucket)"
   ]
  },
  {
   "cell_type": "code",
   "execution_count": 1,
   "id": "904eb065",
   "metadata": {},
   "outputs": [],
   "source": [
    "try:\n",
    "    from google.cloud import storage\n",
    "    import google.cloud.storage\n",
    "    import json\n",
    "    import os\n",
    "    import sys\n",
    "except Exception as e:\n",
    "    print(\"Error:{}\".format(e))"
   ]
  },
  {
   "cell_type": "markdown",
   "id": "897f461b",
   "metadata": {},
   "source": [
    "# Starting of GCP"
   ]
  },
  {
   "cell_type": "code",
   "execution_count": 2,
   "id": "7fd24245",
   "metadata": {},
   "outputs": [],
   "source": [
    "PATH=os.path.join(os.getcwd(),'resourcebusy-testing-9c296e198f25.json')\n",
    "os.environ['GOOGLE_APPLICATION_CREDENTIALS']=PATH"
   ]
  },
  {
   "cell_type": "markdown",
   "id": "0ef30fc9",
   "metadata": {},
   "source": [
    "# Create a client object"
   ]
  },
  {
   "cell_type": "code",
   "execution_count": 3,
   "id": "73d843da",
   "metadata": {},
   "outputs": [],
   "source": [
    "storage_client=storage.Client(PATH)"
   ]
  },
  {
   "cell_type": "code",
   "execution_count": 4,
   "id": "2bdccb12",
   "metadata": {},
   "outputs": [
    {
     "data": {
      "text/plain": [
       "<google.cloud.storage.client.Client at 0x223db6da190>"
      ]
     },
     "execution_count": 4,
     "metadata": {},
     "output_type": "execute_result"
    }
   ],
   "source": [
    "storage_client"
   ]
  },
  {
   "cell_type": "markdown",
   "id": "6ce1d34f",
   "metadata": {},
   "source": [
    "# Getting all files from GCP bucket"
   ]
  },
  {
   "cell_type": "code",
   "execution_count": 6,
   "id": "4292a4a6",
   "metadata": {},
   "outputs": [],
   "source": [
    "bucket=storage_client.get_bucket('resource_manan')"
   ]
  },
  {
   "cell_type": "code",
   "execution_count": 7,
   "id": "1bb14248",
   "metadata": {},
   "outputs": [
    {
     "data": {
      "text/plain": [
       "['/MYI.png',\n",
       " '/MYI12.jpg',\n",
       " '/MYIq.jpg',\n",
       " '/index.html',\n",
       " '/mMYI12.jpg',\n",
       " '1 st day of bi.pbix',\n",
       " 'Olympic Games medal Dataset(from 1896 to 2018).csv',\n",
       " 'Screenrecoder.txt',\n",
       " 'bad.jpg',\n",
       " 'base.html',\n",
       " 'templates/index.html',\n",
       " 'update.html']"
      ]
     },
     "execution_count": 7,
     "metadata": {},
     "output_type": "execute_result"
    }
   ],
   "source": [
    "filename=[filename.name for filename in list(bucket.list_blobs(prefix=''))]\n",
    "filename"
   ]
  },
  {
   "cell_type": "markdown",
   "id": "a13818c0",
   "metadata": {},
   "source": [
    "#Download the file from GCP"
   ]
  },
  {
   "cell_type": "code",
   "execution_count": 8,
   "id": "4bef46b3",
   "metadata": {},
   "outputs": [],
   "source": [
    "blop=bucket.blob(blob_name='Olympic Games medal Dataset(from 1896 to 2018).csv').download_as_string()"
   ]
  },
  {
   "cell_type": "code",
   "execution_count": 14,
   "id": "07ba2661",
   "metadata": {},
   "outputs": [],
   "source": [
    "with open('Mananfil222.csv',\"wb\") as f:\n",
    "    f.write(blop)"
   ]
  },
  {
   "cell_type": "code",
   "execution_count": null,
   "id": "2c73860b",
   "metadata": {},
   "outputs": [],
   "source": [
    "import pandas as pd\n",
    "df=pd.read_csv('Mananfil222.csv')"
   ]
  },
  {
   "cell_type": "markdown",
   "id": "6604450c",
   "metadata": {},
   "source": [
    "# Pushing a file on GCP BUcket"
   ]
  },
  {
   "cell_type": "code",
   "execution_count": 31,
   "id": "45e72c72",
   "metadata": {},
   "outputs": [],
   "source": [
    "filename='Mananfil222.csv'"
   ]
  },
  {
   "cell_type": "code",
   "execution_count": 32,
   "id": "246cf00d",
   "metadata": {},
   "outputs": [],
   "source": [
    "UPLOADFILE=os.path.join(os.getcwd(),filename)"
   ]
  },
  {
   "cell_type": "code",
   "execution_count": 33,
   "id": "291c7de3",
   "metadata": {},
   "outputs": [],
   "source": [
    "bucket=storage_client.get_bucket('resource_manan')\n",
    "blob=bucket.blob(filename)\n",
    "blob.upload_from_filename(UPLOADFILE)"
   ]
  },
  {
   "cell_type": "markdown",
   "id": "45fb8e7c",
   "metadata": {},
   "source": [
    "# Reading the file directly from GCP"
   ]
  },
  {
   "cell_type": "code",
   "execution_count": 22,
   "id": "8d1e954d",
   "metadata": {},
   "outputs": [],
   "source": [
    "import pandas as pd\n",
    "import io\n",
    "from io import BytesIO"
   ]
  },
  {
   "cell_type": "code",
   "execution_count": 23,
   "id": "7445234b",
   "metadata": {},
   "outputs": [],
   "source": [
    "df=pd.read_csv(io.BytesIO(bucket.blob(blob_name='Mananfil222.csv').download_as_string()) , encoding='UTF-8',sep=',')"
   ]
  },
  {
   "cell_type": "code",
   "execution_count": 25,
   "id": "fea76ec7",
   "metadata": {},
   "outputs": [
    {
     "data": {
      "text/html": [
       "<div>\n",
       "<style scoped>\n",
       "    .dataframe tbody tr th:only-of-type {\n",
       "        vertical-align: middle;\n",
       "    }\n",
       "\n",
       "    .dataframe tbody tr th {\n",
       "        vertical-align: top;\n",
       "    }\n",
       "\n",
       "    .dataframe thead th {\n",
       "        text-align: right;\n",
       "    }\n",
       "</style>\n",
       "<table border=\"1\" class=\"dataframe\">\n",
       "  <thead>\n",
       "    <tr style=\"text-align: right;\">\n",
       "      <th></th>\n",
       "      <th>Team(IOC Code)</th>\n",
       "      <th>summer_rank</th>\n",
       "      <th>s_gold</th>\n",
       "      <th>s_silver</th>\n",
       "      <th>s_bronze</th>\n",
       "      <th>summer_total</th>\n",
       "      <th>winter_rank</th>\n",
       "      <th>w_gold</th>\n",
       "      <th>w_silver</th>\n",
       "      <th>w_bronze</th>\n",
       "      <th>winter_total</th>\n",
       "      <th>overall_rank</th>\n",
       "      <th>total_gold</th>\n",
       "      <th>total_silver</th>\n",
       "      <th>total_bronze</th>\n",
       "      <th>total_medals</th>\n",
       "    </tr>\n",
       "  </thead>\n",
       "  <tbody>\n",
       "    <tr>\n",
       "      <th>0</th>\n",
       "      <td>Afghanistan (AFG)</td>\n",
       "      <td>14</td>\n",
       "      <td>0</td>\n",
       "      <td>0</td>\n",
       "      <td>2</td>\n",
       "      <td>2</td>\n",
       "      <td>0</td>\n",
       "      <td>0</td>\n",
       "      <td>0</td>\n",
       "      <td>0</td>\n",
       "      <td>0</td>\n",
       "      <td>14</td>\n",
       "      <td>0</td>\n",
       "      <td>0</td>\n",
       "      <td>2</td>\n",
       "      <td>2</td>\n",
       "    </tr>\n",
       "    <tr>\n",
       "      <th>1</th>\n",
       "      <td>Algeria (ALG)</td>\n",
       "      <td>13</td>\n",
       "      <td>5</td>\n",
       "      <td>4</td>\n",
       "      <td>8</td>\n",
       "      <td>17</td>\n",
       "      <td>3</td>\n",
       "      <td>0</td>\n",
       "      <td>0</td>\n",
       "      <td>0</td>\n",
       "      <td>0</td>\n",
       "      <td>16</td>\n",
       "      <td>5</td>\n",
       "      <td>4</td>\n",
       "      <td>8</td>\n",
       "      <td>17</td>\n",
       "    </tr>\n",
       "    <tr>\n",
       "      <th>2</th>\n",
       "      <td>Argentina (ARG)</td>\n",
       "      <td>24</td>\n",
       "      <td>21</td>\n",
       "      <td>25</td>\n",
       "      <td>28</td>\n",
       "      <td>74</td>\n",
       "      <td>19</td>\n",
       "      <td>0</td>\n",
       "      <td>0</td>\n",
       "      <td>0</td>\n",
       "      <td>0</td>\n",
       "      <td>43</td>\n",
       "      <td>21</td>\n",
       "      <td>25</td>\n",
       "      <td>28</td>\n",
       "      <td>74</td>\n",
       "    </tr>\n",
       "    <tr>\n",
       "      <th>3</th>\n",
       "      <td>Armenia (ARM)</td>\n",
       "      <td>6</td>\n",
       "      <td>2</td>\n",
       "      <td>6</td>\n",
       "      <td>6</td>\n",
       "      <td>14</td>\n",
       "      <td>7</td>\n",
       "      <td>0</td>\n",
       "      <td>0</td>\n",
       "      <td>0</td>\n",
       "      <td>0</td>\n",
       "      <td>13</td>\n",
       "      <td>2</td>\n",
       "      <td>6</td>\n",
       "      <td>6</td>\n",
       "      <td>14</td>\n",
       "    </tr>\n",
       "    <tr>\n",
       "      <th>4</th>\n",
       "      <td>Australasia (ANZ) [ANZ]</td>\n",
       "      <td>2</td>\n",
       "      <td>3</td>\n",
       "      <td>4</td>\n",
       "      <td>5</td>\n",
       "      <td>12</td>\n",
       "      <td>0</td>\n",
       "      <td>0</td>\n",
       "      <td>0</td>\n",
       "      <td>0</td>\n",
       "      <td>0</td>\n",
       "      <td>2</td>\n",
       "      <td>3</td>\n",
       "      <td>4</td>\n",
       "      <td>5</td>\n",
       "      <td>12</td>\n",
       "    </tr>\n",
       "  </tbody>\n",
       "</table>\n",
       "</div>"
      ],
      "text/plain": [
       "             Team(IOC Code)  summer_rank  s_gold  s_silver  s_bronze  \\\n",
       "0         Afghanistan (AFG)           14       0         0         2   \n",
       "1             Algeria (ALG)           13       5         4         8   \n",
       "2           Argentina (ARG)           24      21        25        28   \n",
       "3             Armenia (ARM)            6       2         6         6   \n",
       "4   Australasia (ANZ) [ANZ]            2       3         4         5   \n",
       "\n",
       "   summer_total  winter_rank  w_gold  w_silver  w_bronze  winter_total  \\\n",
       "0             2            0       0         0         0             0   \n",
       "1            17            3       0         0         0             0   \n",
       "2            74           19       0         0         0             0   \n",
       "3            14            7       0         0         0             0   \n",
       "4            12            0       0         0         0             0   \n",
       "\n",
       "   overall_rank  total_gold  total_silver  total_bronze  total_medals  \n",
       "0            14           0             0             2             2  \n",
       "1            16           5             4             8            17  \n",
       "2            43          21            25            28            74  \n",
       "3            13           2             6             6            14  \n",
       "4             2           3             4             5            12  "
      ]
     },
     "execution_count": 25,
     "metadata": {},
     "output_type": "execute_result"
    }
   ],
   "source": [
    "df.head()"
   ]
  },
  {
   "cell_type": "markdown",
   "id": "ba5d8129",
   "metadata": {},
   "source": [
    "# Delete the file from Bucket"
   ]
  },
  {
   "cell_type": "code",
   "execution_count": 34,
   "id": "cddfdaa2",
   "metadata": {},
   "outputs": [
    {
     "data": {
      "text/plain": [
       "['/MYI.png',\n",
       " '/MYI12.jpg',\n",
       " '/MYIq.jpg',\n",
       " '/index.html',\n",
       " '/mMYI12.jpg',\n",
       " '1 st day of bi.pbix',\n",
       " 'Mananfil222.csv',\n",
       " 'Olympic Games medal Dataset(from 1896 to 2018).csv',\n",
       " 'Screenrecoder.txt',\n",
       " 'bad.jpg',\n",
       " 'base.html',\n",
       " 'templates/index.html',\n",
       " 'update.html']"
      ]
     },
     "execution_count": 34,
     "metadata": {},
     "output_type": "execute_result"
    }
   ],
   "source": [
    "filename=[filename.name for filename in list(bucket.list_blobs(prefix=''))]\n",
    "filename"
   ]
  },
  {
   "cell_type": "code",
   "execution_count": 35,
   "id": "bf131b3c",
   "metadata": {},
   "outputs": [],
   "source": [
    "DELETE_FILES='Mananfil222.csv'"
   ]
  },
  {
   "cell_type": "code",
   "execution_count": 36,
   "id": "a7c98919",
   "metadata": {},
   "outputs": [],
   "source": [
    "bucket=storage_client.get_bucket('resource_manan')\n",
    "blob=bucket.blob(DELETE_FILES)"
   ]
  },
  {
   "cell_type": "code",
   "execution_count": 37,
   "id": "6f373216",
   "metadata": {},
   "outputs": [],
   "source": [
    "blob.delete()"
   ]
  },
  {
   "cell_type": "code",
   "execution_count": 38,
   "id": "f963ff7b",
   "metadata": {},
   "outputs": [
    {
     "data": {
      "text/plain": [
       "['/MYI.png',\n",
       " '/MYI12.jpg',\n",
       " '/MYIq.jpg',\n",
       " '/index.html',\n",
       " '/mMYI12.jpg',\n",
       " '1 st day of bi.pbix',\n",
       " 'Olympic Games medal Dataset(from 1896 to 2018).csv',\n",
       " 'Screenrecoder.txt',\n",
       " 'bad.jpg',\n",
       " 'base.html',\n",
       " 'templates/index.html',\n",
       " 'update.html']"
      ]
     },
     "execution_count": 38,
     "metadata": {},
     "output_type": "execute_result"
    }
   ],
   "source": [
    "filename=[filename.name for filename in list(bucket.list_blobs(prefix=''))]\n",
    "filename"
   ]
  }
 ],
 "metadata": {
  "kernelspec": {
   "display_name": "Python 3",
   "language": "python",
   "name": "python3"
  },
  "language_info": {
   "codemirror_mode": {
    "name": "ipython",
    "version": 3
   },
   "file_extension": ".py",
   "mimetype": "text/x-python",
   "name": "python",
   "nbconvert_exporter": "python",
   "pygments_lexer": "ipython3",
   "version": "3.8.8"
  }
 },
 "nbformat": 4,
 "nbformat_minor": 5
}
